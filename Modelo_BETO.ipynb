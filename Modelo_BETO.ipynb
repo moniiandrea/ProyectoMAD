{
  "cells": [
    {
      "cell_type": "markdown",
      "source": [
        "**Integrantes**\n",
        "- Erika Espinosa\n",
        "- Monica Quiroga\n",
        "- Karla Rodriguez"
      ],
      "metadata": {
        "id": "mvhSCHQD8aTR"
      }
    },
    {
      "cell_type": "markdown",
      "source": [
        "# Acceder a un entorno de trabajo con GPU"
      ],
      "metadata": {
        "id": "n1dFuVqkx7-t"
      }
    },
    {
      "cell_type": "code",
      "source": [
        "!nvidia-smi"
      ],
      "metadata": {
        "id": "DBIeaZkVcs1T",
        "outputId": "96c71270-5f5f-462a-c5da-ef991284404d",
        "colab": {
          "base_uri": "https://localhost:8080/"
        }
      },
      "execution_count": null,
      "outputs": [
        {
          "output_type": "stream",
          "name": "stdout",
          "text": [
            "/bin/bash: line 1: nvidia-smi: command not found\n"
          ]
        }
      ]
    },
    {
      "cell_type": "markdown",
      "source": [
        "# Instalación de librerias"
      ],
      "metadata": {
        "id": "C4pqs6rbyB_D"
      }
    },
    {
      "cell_type": "code",
      "execution_count": null,
      "metadata": {
        "id": "RPAgqe5WiRtX",
        "colab": {
          "base_uri": "https://localhost:8080/"
        },
        "outputId": "86ef7b7e-f900-4f11-d525-3e87667d7d8b"
      },
      "outputs": [
        {
          "output_type": "stream",
          "name": "stdout",
          "text": [
            "Collecting transformers\n",
            "  Downloading transformers-4.33.2-py3-none-any.whl (7.6 MB)\n",
            "\u001b[2K     \u001b[90m━━━━━━━━━━━━━━━━━━━━━━━━━━━━━━━━━━━━━━━━\u001b[0m \u001b[32m7.6/7.6 MB\u001b[0m \u001b[31m27.7 MB/s\u001b[0m eta \u001b[36m0:00:00\u001b[0m\n",
            "\u001b[?25hRequirement already satisfied: filelock in /usr/local/lib/python3.10/dist-packages (from transformers) (3.12.2)\n",
            "Collecting huggingface-hub<1.0,>=0.15.1 (from transformers)\n",
            "  Downloading huggingface_hub-0.17.2-py3-none-any.whl (294 kB)\n",
            "\u001b[2K     \u001b[90m━━━━━━━━━━━━━━━━━━━━━━━━━━━━━━━━━━━━━━\u001b[0m \u001b[32m294.9/294.9 kB\u001b[0m \u001b[31m26.2 MB/s\u001b[0m eta \u001b[36m0:00:00\u001b[0m\n",
            "\u001b[?25hRequirement already satisfied: numpy>=1.17 in /usr/local/lib/python3.10/dist-packages (from transformers) (1.23.5)\n",
            "Requirement already satisfied: packaging>=20.0 in /usr/local/lib/python3.10/dist-packages (from transformers) (23.1)\n",
            "Requirement already satisfied: pyyaml>=5.1 in /usr/local/lib/python3.10/dist-packages (from transformers) (6.0.1)\n",
            "Requirement already satisfied: regex!=2019.12.17 in /usr/local/lib/python3.10/dist-packages (from transformers) (2023.6.3)\n",
            "Requirement already satisfied: requests in /usr/local/lib/python3.10/dist-packages (from transformers) (2.31.0)\n",
            "Collecting tokenizers!=0.11.3,<0.14,>=0.11.1 (from transformers)\n",
            "  Downloading tokenizers-0.13.3-cp310-cp310-manylinux_2_17_x86_64.manylinux2014_x86_64.whl (7.8 MB)\n",
            "\u001b[2K     \u001b[90m━━━━━━━━━━━━━━━━━━━━━━━━━━━━━━━━━━━━━━━━\u001b[0m \u001b[32m7.8/7.8 MB\u001b[0m \u001b[31m61.7 MB/s\u001b[0m eta \u001b[36m0:00:00\u001b[0m\n",
            "\u001b[?25hCollecting safetensors>=0.3.1 (from transformers)\n",
            "  Downloading safetensors-0.3.3-cp310-cp310-manylinux_2_17_x86_64.manylinux2014_x86_64.whl (1.3 MB)\n",
            "\u001b[2K     \u001b[90m━━━━━━━━━━━━━━━━━━━━━━━━━━━━━━━━━━━━━━━━\u001b[0m \u001b[32m1.3/1.3 MB\u001b[0m \u001b[31m67.3 MB/s\u001b[0m eta \u001b[36m0:00:00\u001b[0m\n",
            "\u001b[?25hRequirement already satisfied: tqdm>=4.27 in /usr/local/lib/python3.10/dist-packages (from transformers) (4.66.1)\n",
            "Requirement already satisfied: fsspec in /usr/local/lib/python3.10/dist-packages (from huggingface-hub<1.0,>=0.15.1->transformers) (2023.6.0)\n",
            "Requirement already satisfied: typing-extensions>=3.7.4.3 in /usr/local/lib/python3.10/dist-packages (from huggingface-hub<1.0,>=0.15.1->transformers) (4.5.0)\n",
            "Requirement already satisfied: charset-normalizer<4,>=2 in /usr/local/lib/python3.10/dist-packages (from requests->transformers) (3.2.0)\n",
            "Requirement already satisfied: idna<4,>=2.5 in /usr/local/lib/python3.10/dist-packages (from requests->transformers) (3.4)\n",
            "Requirement already satisfied: urllib3<3,>=1.21.1 in /usr/local/lib/python3.10/dist-packages (from requests->transformers) (2.0.4)\n",
            "Requirement already satisfied: certifi>=2017.4.17 in /usr/local/lib/python3.10/dist-packages (from requests->transformers) (2023.7.22)\n",
            "Installing collected packages: tokenizers, safetensors, huggingface-hub, transformers\n",
            "Successfully installed huggingface-hub-0.17.2 safetensors-0.3.3 tokenizers-0.13.3 transformers-4.33.2\n",
            "Collecting emoji\n",
            "  Downloading emoji-2.8.0-py2.py3-none-any.whl (358 kB)\n",
            "\u001b[2K     \u001b[90m━━━━━━━━━━━━━━━━━━━━━━━━━━━━━━━━━━━━━━━\u001b[0m \u001b[32m358.9/358.9 kB\u001b[0m \u001b[31m6.2 MB/s\u001b[0m eta \u001b[36m0:00:00\u001b[0m\n",
            "\u001b[?25hInstalling collected packages: emoji\n",
            "Successfully installed emoji-2.8.0\n",
            "Requirement already satisfied: torch in /usr/local/lib/python3.10/dist-packages (2.0.1+cu118)\n",
            "Requirement already satisfied: filelock in /usr/local/lib/python3.10/dist-packages (from torch) (3.12.2)\n",
            "Requirement already satisfied: typing-extensions in /usr/local/lib/python3.10/dist-packages (from torch) (4.5.0)\n",
            "Requirement already satisfied: sympy in /usr/local/lib/python3.10/dist-packages (from torch) (1.12)\n",
            "Requirement already satisfied: networkx in /usr/local/lib/python3.10/dist-packages (from torch) (3.1)\n",
            "Requirement already satisfied: jinja2 in /usr/local/lib/python3.10/dist-packages (from torch) (3.1.2)\n",
            "Requirement already satisfied: triton==2.0.0 in /usr/local/lib/python3.10/dist-packages (from torch) (2.0.0)\n",
            "Requirement already satisfied: cmake in /usr/local/lib/python3.10/dist-packages (from triton==2.0.0->torch) (3.27.4.1)\n",
            "Requirement already satisfied: lit in /usr/local/lib/python3.10/dist-packages (from triton==2.0.0->torch) (16.0.6)\n",
            "Requirement already satisfied: MarkupSafe>=2.0 in /usr/local/lib/python3.10/dist-packages (from jinja2->torch) (2.1.3)\n",
            "Requirement already satisfied: mpmath>=0.19 in /usr/local/lib/python3.10/dist-packages (from sympy->torch) (1.3.0)\n",
            "--2023-09-24 00:43:26--  https://users.dcc.uchile.cl/~jperez/beto/cased_2M/pytorch_weights.tar.gz\n",
            "Resolving users.dcc.uchile.cl (users.dcc.uchile.cl)... 192.80.24.4, 200.9.99.211\n",
            "Connecting to users.dcc.uchile.cl (users.dcc.uchile.cl)|192.80.24.4|:443... connected.\n",
            "HTTP request sent, awaiting response... 403 Forbidden\n",
            "2023-09-24 00:43:28 ERROR 403: Forbidden.\n",
            "\n",
            "--2023-09-24 00:43:28--  https://users.dcc.uchile.cl/~jperez/beto/cased_2M/vocab.txt\n",
            "Resolving users.dcc.uchile.cl (users.dcc.uchile.cl)... 192.80.24.4, 200.9.99.211\n",
            "Connecting to users.dcc.uchile.cl (users.dcc.uchile.cl)|192.80.24.4|:443... connected.\n",
            "HTTP request sent, awaiting response... 403 Forbidden\n",
            "2023-09-24 00:43:29 ERROR 403: Forbidden.\n",
            "\n",
            "--2023-09-24 00:43:29--  https://users.dcc.uchile.cl/~jperez/beto/cased_2M/config.json\n",
            "Resolving users.dcc.uchile.cl (users.dcc.uchile.cl)... 192.80.24.4, 200.9.99.211\n",
            "Connecting to users.dcc.uchile.cl (users.dcc.uchile.cl)|192.80.24.4|:443... connected.\n",
            "HTTP request sent, awaiting response... 403 Forbidden\n",
            "2023-09-24 00:43:30 ERROR 403: Forbidden.\n",
            "\n",
            "tar (child): pytorch_weights.tar.gz: Cannot open: No such file or directory\n",
            "tar (child): Error is not recoverable: exiting now\n",
            "tar: Child returned status 2\n",
            "tar: Error is not recoverable: exiting now\n",
            "mv: cannot stat 'config.json': No such file or directory\n",
            "mv: cannot stat 'vocab.txt': No such file or directory\n"
          ]
        }
      ],
      "source": [
        "!pip install transformers\n",
        "!pip install emoji\n",
        "!pip install torch\n",
        "!wget https://users.dcc.uchile.cl/~jperez/beto/cased_2M/pytorch_weights.tar.gz\n",
        "!wget https://users.dcc.uchile.cl/~jperez/beto/cased_2M/vocab.txt\n",
        "!wget https://users.dcc.uchile.cl/~jperez/beto/cased_2M/config.json\n",
        "!tar -xzvf pytorch_weights.tar.gz\n",
        "!mv config.json pytorch/.\n",
        "!mv vocab.txt pytorch/."
      ]
    },
    {
      "cell_type": "code",
      "source": [
        "from transformers import BertModel, BertTokenizer, BertConfig, AdamW, get_linear_schedule_with_warmup\n",
        "import torch\n",
        "import numpy as np\n",
        "from sklearn.model_selection import train_test_split\n",
        "from torch import nn, optim\n",
        "from torch.utils.data import Dataset, DataLoader\n",
        "#import torch.nn.functional as F\n",
        "import pandas as pd\n",
        "from textwrap import wrap #Fraccionar los parrafos\n",
        "import seaborn as sns\n",
        "import matplotlib.pyplot as plt\n",
        "import emoji\n",
        "from time import time\n",
        "from sklearn.metrics import confusion_matrix, classification_report\n",
        "from collections import defaultdict\n",
        "from pickle import dump, load"
      ],
      "metadata": {
        "id": "1acKGOV_nuYU"
      },
      "execution_count": null,
      "outputs": []
    },
    {
      "cell_type": "code",
      "source": [
        "device = torch.device(\"cuda:0\" if torch.cuda.is_available() else \"cpu\")\n",
        "device"
      ],
      "metadata": {
        "colab": {
          "base_uri": "https://localhost:8080/"
        },
        "id": "Hr4exYVlHcRP",
        "outputId": "1e9a55e5-d92c-46cb-dc34-b03f37fab003"
      },
      "execution_count": null,
      "outputs": [
        {
          "output_type": "execute_result",
          "data": {
            "text/plain": [
              "device(type='cuda', index=0)"
            ]
          },
          "metadata": {},
          "execution_count": 4
        }
      ]
    },
    {
      "cell_type": "markdown",
      "source": [
        "# Lectura del archivo consolidado\n",
        "\n",
        " 70506 registros\n",
        "* Negativo = 0\n",
        "* Neutro = 1\n",
        "* Positivo = 2"
      ],
      "metadata": {
        "id": "SiAphY2oymCQ"
      }
    },
    {
      "cell_type": "code",
      "source": [
        "df = pd.read_excel('https://raw.githubusercontent.com/moniiandrea/ProyectoMAD/main/DataMAD.xlsx')\n",
        "df"
      ],
      "metadata": {
        "id": "npUE-PmcxWUi"
      },
      "execution_count": null,
      "outputs": []
    },
    {
      "cell_type": "code",
      "source": [
        "df.shape"
      ],
      "metadata": {
        "colab": {
          "base_uri": "https://localhost:8080/"
        },
        "id": "Ng9Q2SEAjznc",
        "outputId": "771629d0-703f-4518-a9e3-47dcc5d95e1d"
      },
      "execution_count": null,
      "outputs": [
        {
          "output_type": "execute_result",
          "data": {
            "text/plain": [
              "(70506, 5)"
            ]
          },
          "metadata": {},
          "execution_count": 129
        }
      ]
    },
    {
      "cell_type": "code",
      "source": [
        "\"\"\"Categorización\"\"\"\n",
        "ncount = df['sentiment'].value_counts()\n",
        "print(ncount)\n",
        "\n",
        "sp = df.groupby('sentiment').count().sort_values(by='sentiment',ascending=True)\n",
        "lst = list(sp.index)\n",
        "#plt.figure(figsize=(12,5))\n",
        "plt.title('Clasificación de sentimientos', size = 14.0)\n",
        "ax = sns.countplot(data=df, x='sentiment',order=lst)\n",
        "#Etiquetas para las barras\n",
        "for bar in ax.patches:\n",
        "  # Obtenemos la altura para las anotaciones.\n",
        "        bar_value = bar.get_height()\n",
        "  # Formato de números con separador de miles.\n",
        "        text = f'{bar_value:,.0f}'\n",
        "  # Centrar etiquetas de x-axis.\n",
        "        text_x = bar.get_x() + bar.get_width() / 2\n",
        "  # get_y() lugar donde empieza la barra y añadimos la altura.\n",
        "        text_y = bar.get_y() + bar_value\n",
        "  # Ubicación de las etiquetas de datos de las barras y color\n",
        "        ax.text(text_x, text_y, text, ha='center',va='bottom', color=\"black\",\n",
        "          size=8)\n",
        "#Mostrar gráfico\n",
        "plt.show()"
      ],
      "metadata": {
        "colab": {
          "base_uri": "https://localhost:8080/",
          "height": 547
        },
        "id": "AmAsGZlohkw3",
        "outputId": "9fe1388c-cfc2-489b-cd2d-3be357b3a7c2"
      },
      "execution_count": null,
      "outputs": [
        {
          "output_type": "stream",
          "name": "stdout",
          "text": [
            "Neutro      36404\n",
            "Positivo    19718\n",
            "Negativo    14384\n",
            "Name: sentiment, dtype: int64\n"
          ]
        },
        {
          "output_type": "display_data",
          "data": {
            "text/plain": [
              "<Figure size 640x480 with 1 Axes>"
            ],
            "image/png": "[encoded data removed]"
          },
          "metadata": {}
        }
      ]
    },
    {
      "cell_type": "code",
      "source": [
        "#Sample para revisar el funcionamiento\n",
        "df = df.sample(5000)"
      ],
      "metadata": {
        "id": "44kElLJQDCo8"
      },
      "execution_count": null,
      "outputs": []
    },
    {
      "cell_type": "markdown",
      "source": [
        "# Division de la data y modelo"
      ],
      "metadata": {
        "id": "wZvOePi_x1ko"
      }
    },
    {
      "cell_type": "code",
      "source": [
        "'''División de la data'''\n",
        "from sklearn.model_selection import train_test_split\n",
        "train_x, val_x, train_labels, val_labels = train_test_split(df['clean_text'], df['sentiment'],\n",
        "                                                                    random_state=2018,\n",
        "                                                                    test_size=0.3,\n",
        "                                                                    stratify=df['No_sentiment'])"
      ],
      "metadata": {
        "id": "cGF2ZyLD0QD1"
      },
      "execution_count": null,
      "outputs": []
    },
    {
      "cell_type": "code",
      "source": [
        "model_name = 'dccuchile/bert-base-spanish-wwm-cased'\n",
        "tokenizer = BertTokenizer.from_pretrained(model_name)\n",
        "model = BertModel.from_pretrained(model_name).to(device)\n",
        "config = BertConfig.from_pretrained(model_name)\n",
        "print (config)"
      ],
      "metadata": {
        "id": "CSRzupz40UoQ",
        "colab": {
          "base_uri": "https://localhost:8080/"
        },
        "outputId": "ecc5e46d-b5f5-434f-8150-a875425f17e9"
      },
      "execution_count": null,
      "outputs": [
        {
          "output_type": "stream",
          "name": "stderr",
          "text": [
            "Some weights of BertModel were not initialized from the model checkpoint at dccuchile/bert-base-spanish-wwm-cased and are newly initialized: ['bert.pooler.dense.weight', 'bert.pooler.dense.bias']\n",
            "You should probably TRAIN this model on a down-stream task to be able to use it for predictions and inference.\n"
          ]
        },
        {
          "output_type": "stream",
          "name": "stdout",
          "text": [
            "BertConfig {\n",
            "  \"_name_or_path\": \"dccuchile/bert-base-spanish-wwm-cased\",\n",
            "  \"architectures\": [\n",
            "    \"BertForMaskedLM\"\n",
            "  ],\n",
            "  \"attention_probs_dropout_prob\": 0.1,\n",
            "  \"classifier_dropout\": null,\n",
            "  \"gradient_checkpointing\": false,\n",
            "  \"hidden_act\": \"gelu\",\n",
            "  \"hidden_dropout_prob\": 0.1,\n",
            "  \"hidden_size\": 768,\n",
            "  \"initializer_range\": 0.02,\n",
            "  \"intermediate_size\": 3072,\n",
            "  \"layer_norm_eps\": 1e-12,\n",
            "  \"max_position_embeddings\": 512,\n",
            "  \"model_type\": \"bert\",\n",
            "  \"num_attention_heads\": 12,\n",
            "  \"num_hidden_layers\": 12,\n",
            "  \"output_past\": true,\n",
            "  \"pad_token_id\": 1,\n",
            "  \"position_embedding_type\": \"absolute\",\n",
            "  \"transformers_version\": \"4.33.2\",\n",
            "  \"type_vocab_size\": 2,\n",
            "  \"use_cache\": true,\n",
            "  \"vocab_size\": 31002\n",
            "}\n",
            "\n"
          ]
        }
      ]
    },
    {
      "cell_type": "markdown",
      "source": [
        "## Construccion estructura"
      ],
      "metadata": {
        "id": "XGQCsaXbzief"
      }
    },
    {
      "cell_type": "code",
      "source": [
        "# Inicialización\n",
        "RANDOM_SEED = 50\n",
        "MAX_LEN = 128\n",
        "BATCH_SIZE = 32 #revisar\n",
        "NCLASSES = 3"
      ],
      "metadata": {
        "id": "hGL9efh9nvNK"
      },
      "execution_count": null,
      "outputs": []
    },
    {
      "cell_type": "code",
      "source": [
        "# CREACIÓN DATASET\n",
        "\n",
        "class Dataset(Dataset):\n",
        "\n",
        "  def __init__(self,full_text,labels,tokenizer,max_len):\n",
        "    self.full_text = full_text\n",
        "    self.labels = labels\n",
        "    self.tokenizer = tokenizer\n",
        "    self.max_len = max_len\n",
        "\n",
        "  def __len__(self):\n",
        "      return len(self.full_text)\n",
        "\n",
        "  def __getitem__(self, item):\n",
        "    full_text = str(self.full_text[item])\n",
        "    label = self.labels[item]\n",
        "    encoding = tokenizer.encode_plus(#representación numerica de los tokens\n",
        "        full_text,\n",
        "        max_length = self.max_len,\n",
        "        truncation = True,\n",
        "        add_special_tokens = True,\n",
        "        return_token_type_ids = False,\n",
        "        padding='max_length',\n",
        "        return_attention_mask = True,\n",
        "        return_tensors = 'pt'\n",
        "        )\n",
        "\n",
        "\n",
        "    return {\n",
        "          'full_text': full_text,\n",
        "          'input_ids': encoding['input_ids'].flatten(),\n",
        "          'attention_mask': encoding['attention_mask'].flatten(),\n",
        "          'label': torch.tensor(label, dtype=torch.long)\n",
        "      }"
      ],
      "metadata": {
        "id": "KQdff1rHpOXM"
      },
      "execution_count": null,
      "outputs": []
    },
    {
      "cell_type": "code",
      "source": [
        "# Data loader:\n",
        "\n",
        "def data_loader(df, tokenizer, max_len, batch_size):\n",
        "  dataset = Dataset(\n",
        "      full_text = df.full_text.to_numpy(),\n",
        "      labels = df.No_sentiment.to_numpy(),\n",
        "      tokenizer = tokenizer,\n",
        "      max_len = MAX_LEN\n",
        "  )\n",
        "\n",
        "  return DataLoader(dataset, batch_size = BATCH_SIZE, num_workers = 2)"
      ],
      "metadata": {
        "id": "iAZTOtKupQnV"
      },
      "execution_count": null,
      "outputs": []
    },
    {
      "cell_type": "code",
      "source": [
        "df_train, df_test = train_test_split(df, test_size = 0.2, random_state=RANDOM_SEED)\n",
        "\n",
        "# we will use temp_text and temp_labels to create validation and test set\n",
        "df_test, df_test2 = train_test_split(df_test, random_state=RANDOM_SEED, test_size=0.5)\n",
        "\n",
        "train_data_loader = data_loader(df_train, tokenizer, MAX_LEN, BATCH_SIZE)\n",
        "test_data_loader = data_loader(df_test, tokenizer, MAX_LEN, BATCH_SIZE)\n",
        "test_data_loader2 = data_loader(df_test2, tokenizer, MAX_LEN, BATCH_SIZE)"
      ],
      "metadata": {
        "id": "WzA-ZQMrpXB9"
      },
      "execution_count": null,
      "outputs": []
    },
    {
      "cell_type": "code",
      "source": [
        "print('Datos de Entrenamiento: ', df_train.shape)\n",
        "print('Datos de Validación: ', df_test.shape)\n",
        "print('Datos de Prueba: ', df_test2.shape)\n",
        "train_data_loader"
      ],
      "metadata": {
        "colab": {
          "base_uri": "https://localhost:8080/"
        },
        "id": "SFjBMdo32eVe",
        "outputId": "23e81857-729d-4af2-c0e5-43ff08a10b8f"
      },
      "execution_count": null,
      "outputs": [
        {
          "output_type": "stream",
          "name": "stdout",
          "text": [
            "Datos de Entrenamiento:  (56404, 5)\n",
            "Datos de Validación:  (7051, 5)\n",
            "Datos de Prueba:  (7051, 5)\n"
          ]
        },
        {
          "output_type": "execute_result",
          "data": {
            "text/plain": [
              "<torch.utils.data.dataloader.DataLoader at 0x7e8b71ddaef0>"
            ]
          },
          "metadata": {},
          "execution_count": 137
        }
      ]
    },
    {
      "cell_type": "markdown",
      "source": [
        "## Modelo"
      ],
      "metadata": {
        "id": "_-eubGoF3RTj"
      }
    },
    {
      "cell_type": "markdown",
      "source": [
        "### Modelo Base\n",
        "\n",
        "* BATCH_SIZE = 32\n",
        "* EPOCHS = 3\n",
        "* Lr = 2e-5"
      ],
      "metadata": {
        "id": "tqhDYJ29HhOh"
      }
    },
    {
      "cell_type": "code",
      "source": [
        "# EL MODELO!\n",
        "\n",
        "class BERTSentimentClassifier(nn.Module):\n",
        "\n",
        "  def __init__(self, n_classes):\n",
        "    super(BERTSentimentClassifier, self).__init__()\n",
        "    self.bert = BertModel.from_pretrained(model_name)\n",
        "    self.drop = nn.Dropout(p=0.3)\n",
        "    self.linear = nn.Linear(self.bert.config.hidden_size, n_classes) #revisar si mantienen o se quita y hidden_size\n",
        "    self.gelu = nn.GELU() #funcion utilizada en bert en las capas internas, GELU combina y mejora los resultados por ser una distribución acumulativa, usada en NLP\n",
        "    self.softmax = nn.Softmax(dim=1) # salida de probabilidades cuando se tienen mas de dos categorias\n",
        "\n",
        "  def forward(self, input_ids, attention_mask):\n",
        "    _, cls_output = self.bert(\n",
        "        input_ids = input_ids,\n",
        "        attention_mask = attention_mask,\n",
        "        return_dict=False\n",
        "    )\n",
        "    drop_output = self.drop(cls_output)\n",
        "    output = self.linear(drop_output)\n",
        "    output = self.gelu(output)\n",
        "    return self.softmax(output)"
      ],
      "metadata": {
        "id": "QPVXBIBJpd3K"
      },
      "execution_count": null,
      "outputs": []
    },
    {
      "cell_type": "code",
      "source": [
        "model = BERTSentimentClassifier(NCLASSES).to(device)"
      ],
      "metadata": {
        "id": "xXDw_JAwpf9K",
        "colab": {
          "base_uri": "https://localhost:8080/"
        },
        "outputId": "54f043a3-f035-4cd4-b126-20764fe4e5b5"
      },
      "execution_count": null,
      "outputs": [
        {
          "output_type": "stream",
          "name": "stderr",
          "text": [
            "Some weights of BertModel were not initialized from the model checkpoint at dccuchile/bert-base-spanish-wwm-cased and are newly initialized: ['bert.pooler.dense.weight', 'bert.pooler.dense.bias']\n",
            "You should probably TRAIN this model on a down-stream task to be able to use it for predictions and inference.\n"
          ]
        }
      ]
    },
    {
      "cell_type": "code",
      "source": [
        "print(model)"
      ],
      "metadata": {
        "id": "NH-oQm2Vphn9",
        "colab": {
          "base_uri": "https://localhost:8080/"
        },
        "outputId": "68b8d4e3-e458-4277-d10f-df6bf5133a48"
      },
      "execution_count": null,
      "outputs": [
        {
          "output_type": "stream",
          "name": "stdout",
          "text": [
            "BERTSentimentClassifier(\n",
            "  (bert): BertModel(\n",
            "    (embeddings): BertEmbeddings(\n",
            "      (word_embeddings): Embedding(31002, 768, padding_idx=1)\n",
            "      (position_embeddings): Embedding(512, 768)\n",
            "      (token_type_embeddings): Embedding(2, 768)\n",
            "      (LayerNorm): LayerNorm((768,), eps=1e-12, elementwise_affine=True)\n",
            "      (dropout): Dropout(p=0.1, inplace=False)\n",
            "    )\n",
            "    (encoder): BertEncoder(\n",
            "      (layer): ModuleList(\n",
            "        (0-11): 12 x BertLayer(\n",
            "          (attention): BertAttention(\n",
            "            (self): BertSelfAttention(\n",
            "              (query): Linear(in_features=768, out_features=768, bias=True)\n",
            "              (key): Linear(in_features=768, out_features=768, bias=True)\n",
            "              (value): Linear(in_features=768, out_features=768, bias=True)\n",
            "              (dropout): Dropout(p=0.1, inplace=False)\n",
            "            )\n",
            "            (output): BertSelfOutput(\n",
            "              (dense): Linear(in_features=768, out_features=768, bias=True)\n",
            "              (LayerNorm): LayerNorm((768,), eps=1e-12, elementwise_affine=True)\n",
            "              (dropout): Dropout(p=0.1, inplace=False)\n",
            "            )\n",
            "          )\n",
            "          (intermediate): BertIntermediate(\n",
            "            (dense): Linear(in_features=768, out_features=3072, bias=True)\n",
            "            (intermediate_act_fn): GELUActivation()\n",
            "          )\n",
            "          (output): BertOutput(\n",
            "            (dense): Linear(in_features=3072, out_features=768, bias=True)\n",
            "            (LayerNorm): LayerNorm((768,), eps=1e-12, elementwise_affine=True)\n",
            "            (dropout): Dropout(p=0.1, inplace=False)\n",
            "          )\n",
            "        )\n",
            "      )\n",
            "    )\n",
            "    (pooler): BertPooler(\n",
            "      (dense): Linear(in_features=768, out_features=768, bias=True)\n",
            "      (activation): Tanh()\n",
            "    )\n",
            "  )\n",
            "  (drop): Dropout(p=0.3, inplace=False)\n",
            "  (linear): Linear(in_features=768, out_features=3, bias=True)\n",
            "  (gelu): GELU(approximate='none')\n",
            "  (softmax): Softmax(dim=1)\n",
            ")\n"
          ]
        }
      ]
    },
    {
      "cell_type": "markdown",
      "source": [
        "#### Entrenamiento"
      ],
      "metadata": {
        "id": "rLzKvppS3dRq"
      }
    },
    {
      "cell_type": "code",
      "source": [
        "# Iteración entrenamiento\n",
        "def train_model(model, data_loader, loss_fn, optimizer,device, scheduler, n_examples):\n",
        "  model = model.train()\n",
        "  losses = []\n",
        "  correct_predictions = 0\n",
        "  for batch in data_loader:\n",
        "    input_ids = batch['input_ids'].to(device)\n",
        "    attention_mask = batch['attention_mask'].to(device)\n",
        "    labels = batch['label'].to(device)\n",
        "    outputs = model(input_ids = input_ids, attention_mask = attention_mask)\n",
        "    _, preds = torch.max(outputs, dim=1)\n",
        "    loss = loss_fn(outputs, labels)\n",
        "    correct_predictions += torch.sum(preds == labels)\n",
        "    losses.append(loss.item())\n",
        "    loss.backward()\n",
        "    nn.utils.clip_grad_norm_(model.parameters(), max_norm=1.0)\n",
        "    optimizer.step()\n",
        "    scheduler.step()\n",
        "    optimizer.zero_grad()\n",
        "  return correct_predictions.double()/n_examples, np.mean(losses)\n",
        "\n",
        "def eval_model(model, data_loader, loss_fn, device, n_examples):\n",
        "  model = model.eval()\n",
        "  losses = []\n",
        "  correct_predictions = 0\n",
        "  with torch.no_grad():\n",
        "    for batch in data_loader:\n",
        "      input_ids = batch['input_ids'].to(device)\n",
        "      attention_mask = batch['attention_mask'].to(device)\n",
        "      labels = batch['label'].to(device)\n",
        "      outputs = model(input_ids = input_ids, attention_mask = attention_mask)\n",
        "      _, preds = torch.max(outputs, dim=1)\n",
        "      loss = loss_fn(outputs, labels)\n",
        "      correct_predictions += torch.sum(preds == labels)\n",
        "      losses.append(loss.item())\n",
        "  return correct_predictions.double()/n_examples, np.mean(losses)"
      ],
      "metadata": {
        "id": "xvUGtRLypl1l"
      },
      "execution_count": null,
      "outputs": []
    },
    {
      "cell_type": "code",
      "source": [
        "# ENTRENAMIENTO\n",
        "EPOCHS = 3 #revisar\n",
        "optimizer = torch.optim.AdamW(model.parameters(), lr=2e-5)\n",
        "total_steps = len(train_data_loader) * EPOCHS\n",
        "scheduler = get_linear_schedule_with_warmup(\n",
        "    optimizer,\n",
        "    num_warmup_steps = 0,\n",
        "    num_training_steps = total_steps\n",
        ")\n",
        "\n",
        "loss_fn = nn.CrossEntropyLoss().to(device)"
      ],
      "metadata": {
        "id": "gfPRMIs_pjN_"
      },
      "execution_count": null,
      "outputs": []
    },
    {
      "cell_type": "code",
      "source": [
        "# Entrenamiento!!!\n",
        "%%time\n",
        "history = defaultdict(list)\n",
        "tiempo_inicial = time()\n",
        "\n",
        "\n",
        "for epoch in range(EPOCHS):\n",
        "    print('Epoch {} de {}'.format(epoch+1, EPOCHS))\n",
        "    print('------------------')\n",
        "    train_acc, train_loss = train_model(\n",
        "        model, train_data_loader, loss_fn, optimizer, device, scheduler, n_examples=len(df_train))\n",
        "    test_acc, test_loss = eval_model(\n",
        "        model, test_data_loader, loss_fn, device, n_examples=len(df_test))\n",
        "    print('Entrenamiento: Loss: {}, accuracy: {}'.format(train_loss, train_acc))\n",
        "    print('Validación: Loss: {}, accuracy: {}'.format(test_loss, test_acc))\n",
        "    print('')\n",
        "    tiempo_final = time()\n",
        "\n",
        "    history['train_acc'].append(train_acc)\n",
        "    history['train_loss'].append(train_loss)\n",
        "    history['test_acc'].append(test_acc)\n",
        "    history['test_loss'].append(test_acc)\n",
        "\n",
        "tiempo_ejecucion = tiempo_final - tiempo_inicial\n",
        "print('\\nEl tiempo, en min, de ejecucion fue:%s'% str(tiempo_ejecucion/60))"
      ],
      "metadata": {
        "colab": {
          "base_uri": "https://localhost:8080/"
        },
        "id": "toCyBCTRpnOr",
        "outputId": "00e03c74-2499-493a-c404-0062d14d7622"
      },
      "execution_count": null,
      "outputs": [
        {
          "output_type": "stream",
          "name": "stdout",
          "text": [
            "Epoch 1 de 3\n",
            "------------------\n",
            "Entrenamiento: Loss: 0.7843566303961803, accuracy: 0.7629600737536344\n",
            "Validación: Loss: 0.7688041054285489, accuracy: 0.7773365480073748\n",
            "\n",
            "Epoch 2 de 3\n",
            "------------------\n",
            "Entrenamiento: Loss: 0.7334294261001959, accuracy: 0.8146408056166229\n",
            "Validación: Loss: 0.7575796416442319, accuracy: 0.789958871082116\n",
            "\n",
            "Epoch 3 de 3\n",
            "------------------\n",
            "Entrenamiento: Loss: 0.7049375375900766, accuracy: 0.8443195518048364\n",
            "Validación: Loss: 0.7548663961401892, accuracy: 0.7925117004680188\n",
            "\n",
            "\n",
            "El tiempo, en min, de ejecucion fue:59.83765611251195\n",
            "CPU times: user 55min 38s, sys: 12.6 s, total: 55min 51s\n",
            "Wall time: 59min 50s\n"
          ]
        }
      ]
    },
    {
      "cell_type": "markdown",
      "source": [
        "#### Guardar Modelo Base BETO"
      ],
      "metadata": {
        "id": "aBTPSXaQEudi"
      }
    },
    {
      "cell_type": "code",
      "source": [
        "torch.save(model,'Modelo_Beto_Base')"
      ],
      "metadata": {
        "id": "Lwkq3m7N1kRg"
      },
      "execution_count": null,
      "outputs": []
    },
    {
      "cell_type": "markdown",
      "source": [
        "#### Guardar y leer history"
      ],
      "metadata": {
        "id": "XJzjDSg2nsGl"
      }
    },
    {
      "cell_type": "code",
      "source": [
        "with open(\"/history_base\", \"wb\") as f:\n",
        "    dump(history, f)"
      ],
      "metadata": {
        "id": "zyF4D2nW857z"
      },
      "execution_count": null,
      "outputs": []
    },
    {
      "cell_type": "code",
      "source": [
        "#Leer archivo\n",
        "with open(\"/history_base\", \"rb\") as f:\n",
        "    history = load(f)"
      ],
      "metadata": {
        "id": "4_-ELEuGicAA"
      },
      "execution_count": null,
      "outputs": []
    },
    {
      "cell_type": "code",
      "source": [
        "history"
      ],
      "metadata": {
        "colab": {
          "base_uri": "https://localhost:8080/"
        },
        "id": "B7Gr_ypU9u5c",
        "outputId": "d551785f-f916-4d44-9988-1123769c5f42"
      },
      "execution_count": null,
      "outputs": [
        {
          "output_type": "execute_result",
          "data": {
            "text/plain": [
              "defaultdict(list,\n",
              "            {'train_acc': [tensor(0.7630, device='cuda:0', dtype=torch.float64),\n",
              "              tensor(0.8146, device='cuda:0', dtype=torch.float64),\n",
              "              tensor(0.8443, device='cuda:0', dtype=torch.float64)],\n",
              "             'train_loss': [0.7843566303961803,\n",
              "              0.7334294261001959,\n",
              "              0.7049375375900766],\n",
              "             'test_acc': [tensor(0.7773, device='cuda:0', dtype=torch.float64),\n",
              "              tensor(0.7900, device='cuda:0', dtype=torch.float64),\n",
              "              tensor(0.7925, device='cuda:0', dtype=torch.float64)],\n",
              "             'test_loss': [tensor(0.7773, device='cuda:0', dtype=torch.float64),\n",
              "              tensor(0.7900, device='cuda:0', dtype=torch.float64),\n",
              "              tensor(0.7925, device='cuda:0', dtype=torch.float64)]})"
            ]
          },
          "metadata": {},
          "execution_count": 147
        }
      ]
    },
    {
      "cell_type": "markdown",
      "source": [
        "#### Grafica para comparar los datos de entrenamiento con los de validación"
      ],
      "metadata": {
        "id": "YVKqLQQBM5kL"
      }
    },
    {
      "cell_type": "code",
      "source": [
        "lst_train_acc = []\n",
        "lst_train_loss = []\n",
        "lst_test_acc = []\n",
        "lst_test_loss = []\n",
        "\n",
        "for i in range(EPOCHS):\n",
        "    lst_train_acc.append(history['train_acc'][i].cpu().detach().numpy())\n",
        "    lst_train_loss.append(history['train_loss'][i])\n",
        "    lst_test_acc.append(history['test_acc'][i].cpu().detach().numpy())\n",
        "    lst_test_loss.append(history['test_loss'][i].cpu().detach().numpy())"
      ],
      "metadata": {
        "id": "oNi6j-APOq_v"
      },
      "execution_count": null,
      "outputs": []
    },
    {
      "cell_type": "code",
      "source": [
        "fig, ax = plt.subplots(1,2,figsize = (10, 5))\n",
        "colors = ['b','r','g','y','cyan']\n",
        "\n",
        "\n",
        "ax[0].plot(lst_train_acc, 'b',label='train accuracy', marker = 'o')\n",
        "ax[0].plot(lst_test_acc,'r',label = 'test accurracy', marker = 'o')\n",
        "\n",
        "ax[0].set_xlabel(\"Num de epocas\")\n",
        "ax[0].set_ylabel(\"Exactitud\")\n",
        "ax[0].set_ylim([0, 1])\n",
        "ax[0].set_title(\"Exactitud\", fontdict = {'fontsize':14, 'fontweight':'bold', 'color':'tab:blue'})\n",
        "ax[0].legend(loc = 'lower right')\n",
        "ax[0].grid(axis = 'y', color = 'gray', linestyle = 'dashed')\n",
        "\n",
        "ax[1].plot(lst_train_loss,'b',label = 'train loss', marker = 'o')\n",
        "ax[1].plot(lst_test_loss,'r',label = 'test loss', marker = 'o')\n",
        "\n",
        "ax[1].set_xlabel(\"Num de epocas\")\n",
        "ax[1].set_ylabel(\"Pérdida\")\n",
        "ax[1].set_ylim([0, 1])\n",
        "ax[1].set_title(\"Pérdida\", fontdict = {'fontsize':14, 'fontweight':'bold', 'color':'tab:blue'})\n",
        "ax[1].legend(loc = 'lower right')\n",
        "ax[1].grid(axis = 'y', color = 'gray', linestyle = 'dashed')\n",
        "\n",
        "plt.show()"
      ],
      "metadata": {
        "colab": {
          "base_uri": "https://localhost:8080/",
          "height": 488
        },
        "id": "cUWf0EvpWDH6",
        "outputId": "1d06dd81-4a38-442d-ed95-8b135c64b1d7"
      },
      "execution_count": null,
      "outputs": [
        {
          "output_type": "display_data",
          "data": {
            "text/plain": [
              "<Figure size 1000x500 with 2 Axes>"
            ],
            "image/png": "[encoded data removed]"
          },
          "metadata": {}
        }
      ]
    },
    {
      "cell_type": "markdown",
      "source": [
        "### Predicciónes del modelo"
      ],
      "metadata": {
        "id": "g0wGp_HSA5yg"
      }
    },
    {
      "cell_type": "code",
      "source": [
        "def get_predictions(model, data_loader):\n",
        "    model = model.eval()\n",
        "\n",
        "    texts = [] #texto sin procesar solo para mostrar la relación\n",
        "    predictions = [] #predicciones\n",
        "    prediction_probs = [] # probabilidades de predicción\n",
        "    real_values = [] #valores reales o el sentimiento que corresponde\n",
        "\n",
        "    with torch.no_grad():\n",
        "        for d in data_loader:\n",
        "            text = d['full_text']\n",
        "            input_ids = d[\"input_ids\"].to(device)\n",
        "            attention_mask = d[\"attention_mask\"].to(device)\n",
        "            labels = d[\"label\"].to(device)\n",
        "\n",
        "            outputs = model(\n",
        "            input_ids=input_ids,\n",
        "            attention_mask=attention_mask\n",
        "            )\n",
        "            _, preds = torch.max(outputs, dim=1)\n",
        "\n",
        "            #probs = F.softmax(outputs, dim=1)\n",
        "\n",
        "            texts.extend(text)\n",
        "            predictions.extend(preds)\n",
        "            prediction_probs.extend(outputs)\n",
        "            real_values.extend(labels)\n",
        "    #Crear un DataFrame para revisar los resultados de las listas\n",
        "    df_prediction = pd.DataFrame(list(zip(texts,predictions,prediction_probs,real_values)),\n",
        "                                 columns = ['texts','predictions','prediction_probs','real_values'])\n",
        "\n",
        "    #convertir las listas en tensores y retornar sus valores\n",
        "    predictions = torch.stack(predictions).cpu()\n",
        "    prediction_probs = torch.stack(prediction_probs).cpu()\n",
        "    real_values = torch.stack(real_values).cpu()\n",
        "    return texts, predictions, prediction_probs, real_values, df_prediction"
      ],
      "metadata": {
        "id": "mTE_VL-AA-a2"
      },
      "execution_count": null,
      "outputs": []
    },
    {
      "cell_type": "code",
      "source": [
        "y_texts, y_pred, y_pred_probs, y_test, df_prediction = get_predictions(\n",
        "  model_sel,test_data_loader2)"
      ],
      "metadata": {
        "id": "HOwsgQIBBMDX"
      },
      "execution_count": null,
      "outputs": []
    },
    {
      "cell_type": "code",
      "source": [
        "df_prediction"
      ],
      "metadata": {
        "colab": {
          "base_uri": "https://localhost:8080/",
          "height": 597
        },
        "id": "ZAwbm6I0fbLB",
        "outputId": "140d41bb-ad24-4f37-9597-d15a6cff7ed5"
      },
      "execution_count": null,
      "outputs": [
        {
          "output_type": "execute_result",
          "data": {
            "text/plain": [
              "                                                  texts  \\\n",
              "0     La @JEP_Colombia acaba de publicar el libro \"L...   \n",
              "1     🇨🇴Reafirmamos nuestra visión de poner al #empr...   \n",
              "2     El relacionamiento entre empresas, academia y ...   \n",
              "3     @WRadioColombia @DCoronell Yo creo q tiene más...   \n",
              "4     Y a ti, ¿qué te hace sentir orgullosamente #ut...   \n",
              "...                                                 ...   \n",
              "7046  #TeContamos Breiner Fabián Saavedra Lomelin, e...   \n",
              "7047  📌Arrancamos las #CaravanasXLaJusticia en #Sant...   \n",
              "7048  “Existen caminos menos violentos a través de l...   \n",
              "7049  María Isabel Urrutia: de primer oro olímpico a...   \n",
              "7050  Firman convenio para que los animales de calle...   \n",
              "\n",
              "                     predictions  \\\n",
              "0     tensor(1, device='cuda:0')   \n",
              "1     tensor(2, device='cuda:0')   \n",
              "2     tensor(1, device='cuda:0')   \n",
              "3     tensor(0, device='cuda:0')   \n",
              "4     tensor(2, device='cuda:0')   \n",
              "...                          ...   \n",
              "7046  tensor(1, device='cuda:0')   \n",
              "7047  tensor(1, device='cuda:0')   \n",
              "7048  tensor(1, device='cuda:0')   \n",
              "7049  tensor(1, device='cuda:0')   \n",
              "7050  tensor(1, device='cuda:0')   \n",
              "\n",
              "                                       prediction_probs  \\\n",
              "0     [tensor(6.2710e-05, device='cuda:0'), tensor(0...   \n",
              "1     [tensor(0.0002, device='cuda:0'), tensor(0.000...   \n",
              "2     [tensor(0.0018, device='cuda:0'), tensor(0.639...   \n",
              "3     [tensor(0.9997, device='cuda:0'), tensor(0.000...   \n",
              "4     [tensor(0.0002, device='cuda:0'), tensor(0.000...   \n",
              "...                                                 ...   \n",
              "7046  [tensor(7.3088e-05, device='cuda:0'), tensor(0...   \n",
              "7047  [tensor(9.5196e-05, device='cuda:0'), tensor(0...   \n",
              "7048  [tensor(0.0017, device='cuda:0'), tensor(0.515...   \n",
              "7049  [tensor(0.0002, device='cuda:0'), tensor(0.999...   \n",
              "7050  [tensor(0.0012, device='cuda:0'), tensor(0.944...   \n",
              "\n",
              "                     real_values  \n",
              "0     tensor(1, device='cuda:0')  \n",
              "1     tensor(2, device='cuda:0')  \n",
              "2     tensor(1, device='cuda:0')  \n",
              "3     tensor(0, device='cuda:0')  \n",
              "4     tensor(2, device='cuda:0')  \n",
              "...                          ...  \n",
              "7046  tensor(1, device='cuda:0')  \n",
              "7047  tensor(1, device='cuda:0')  \n",
              "7048  tensor(2, device='cuda:0')  \n",
              "7049  tensor(2, device='cuda:0')  \n",
              "7050  tensor(2, device='cuda:0')  \n",
              "\n",
              "[7051 rows x 4 columns]"
            ],
            "text/html": [
              "\n",
              "  <div id=\"df-48bb3885-b19a-4d4d-80cb-849f64957431\" class=\"colab-df-container\">\n",
              "    <div>\n",
              "<style scoped>\n",
              "    .dataframe tbody tr th:only-of-type {\n",
              "        vertical-align: middle;\n",
              "    }\n",
              "\n",
              "    .dataframe tbody tr th {\n",
              "        vertical-align: top;\n",
              "    }\n",
              "\n",
              "    .dataframe thead th {\n",
              "        text-align: right;\n",
              "    }\n",
              "</style>\n",
              "<table border=\"1\" class=\"dataframe\">\n",
              "  <thead>\n",
              "    <tr style=\"text-align: right;\">\n",
              "      <th></th>\n",
              "      <th>texts</th>\n",
              "      <th>predictions</th>\n",
              "      <th>prediction_probs</th>\n",
              "      <th>real_values</th>\n",
              "    </tr>\n",
              "  </thead>\n",
              "  <tbody>\n",
              "    <tr>\n",
              "      <th>0</th>\n",
              "      <td>La @JEP_Colombia acaba de publicar el libro \"L...</td>\n",
              "      <td>tensor(1, device='cuda:0')</td>\n",
              "      <td>[tensor(6.2710e-05, device='cuda:0'), tensor(0...</td>\n",
              "      <td>tensor(1, device='cuda:0')</td>\n",
              "    </tr>\n",
              "    <tr>\n",
              "      <th>1</th>\n",
              "      <td>🇨🇴Reafirmamos nuestra visión de poner al #empr...</td>\n",
              "      <td>tensor(2, device='cuda:0')</td>\n",
              "      <td>[tensor(0.0002, device='cuda:0'), tensor(0.000...</td>\n",
              "      <td>tensor(2, device='cuda:0')</td>\n",
              "    </tr>\n",
              "    <tr>\n",
              "      <th>2</th>\n",
              "      <td>El relacionamiento entre empresas, academia y ...</td>\n",
              "      <td>tensor(1, device='cuda:0')</td>\n",
              "      <td>[tensor(0.0018, device='cuda:0'), tensor(0.639...</td>\n",
              "      <td>tensor(1, device='cuda:0')</td>\n",
              "    </tr>\n",
              "    <tr>\n",
              "      <th>3</th>\n",
              "      <td>@WRadioColombia @DCoronell Yo creo q tiene más...</td>\n",
              "      <td>tensor(0, device='cuda:0')</td>\n",
              "      <td>[tensor(0.9997, device='cuda:0'), tensor(0.000...</td>\n",
              "      <td>tensor(0, device='cuda:0')</td>\n",
              "    </tr>\n",
              "    <tr>\n",
              "      <th>4</th>\n",
              "      <td>Y a ti, ¿qué te hace sentir orgullosamente #ut...</td>\n",
              "      <td>tensor(2, device='cuda:0')</td>\n",
              "      <td>[tensor(0.0002, device='cuda:0'), tensor(0.000...</td>\n",
              "      <td>tensor(2, device='cuda:0')</td>\n",
              "    </tr>\n",
              "    <tr>\n",
              "      <th>...</th>\n",
              "      <td>...</td>\n",
              "      <td>...</td>\n",
              "      <td>...</td>\n",
              "      <td>...</td>\n",
              "    </tr>\n",
              "    <tr>\n",
              "      <th>7046</th>\n",
              "      <td>#TeContamos Breiner Fabián Saavedra Lomelin, e...</td>\n",
              "      <td>tensor(1, device='cuda:0')</td>\n",
              "      <td>[tensor(7.3088e-05, device='cuda:0'), tensor(0...</td>\n",
              "      <td>tensor(1, device='cuda:0')</td>\n",
              "    </tr>\n",
              "    <tr>\n",
              "      <th>7047</th>\n",
              "      <td>📌Arrancamos las #CaravanasXLaJusticia en #Sant...</td>\n",
              "      <td>tensor(1, device='cuda:0')</td>\n",
              "      <td>[tensor(9.5196e-05, device='cuda:0'), tensor(0...</td>\n",
              "      <td>tensor(1, device='cuda:0')</td>\n",
              "    </tr>\n",
              "    <tr>\n",
              "      <th>7048</th>\n",
              "      <td>“Existen caminos menos violentos a través de l...</td>\n",
              "      <td>tensor(1, device='cuda:0')</td>\n",
              "      <td>[tensor(0.0017, device='cuda:0'), tensor(0.515...</td>\n",
              "      <td>tensor(2, device='cuda:0')</td>\n",
              "    </tr>\n",
              "    <tr>\n",
              "      <th>7049</th>\n",
              "      <td>María Isabel Urrutia: de primer oro olímpico a...</td>\n",
              "      <td>tensor(1, device='cuda:0')</td>\n",
              "      <td>[tensor(0.0002, device='cuda:0'), tensor(0.999...</td>\n",
              "      <td>tensor(2, device='cuda:0')</td>\n",
              "    </tr>\n",
              "    <tr>\n",
              "      <th>7050</th>\n",
              "      <td>Firman convenio para que los animales de calle...</td>\n",
              "      <td>tensor(1, device='cuda:0')</td>\n",
              "      <td>[tensor(0.0012, device='cuda:0'), tensor(0.944...</td>\n",
              "      <td>tensor(2, device='cuda:0')</td>\n",
              "    </tr>\n",
              "  </tbody>\n",
              "</table>\n",
              "<p>7051 rows × 4 columns</p>\n",
              "</div>\n",
              "    <div class=\"colab-df-buttons\">\n",
              "\n",
              "  <div class=\"colab-df-container\">\n",
              "    <button class=\"colab-df-convert\" onclick=\"convertToInteractive('df-48bb3885-b19a-4d4d-80cb-849f64957431')\"\n",
              "            title=\"Convert this dataframe to an interactive table.\"\n",
              "            style=\"display:none;\">\n",
              "\n",
              "  <svg xmlns=\"http://www.w3.org/2000/svg\" height=\"24px\" viewBox=\"0 -960 960 960\">\n",
              "    <path d=\"M120-120v-720h720v720H120Zm60-500h600v-160H180v160Zm220 220h160v-160H400v160Zm0 220h160v-160H400v160ZM180-400h160v-160H180v160Zm440 0h160v-160H620v160ZM180-180h160v-160H180v160Zm440 0h160v-160H620v160Z\"/>\n",
              "  </svg>\n",
              "    </button>\n",
              "\n",
              "  <style>\n",
              "    .colab-df-container {\n",
              "      display:flex;\n",
              "      gap: 12px;\n",
              "    }\n",
              "\n",
              "    .colab-df-convert {\n",
              "      background-color: #E8F0FE;\n",
              "      border: none;\n",
              "      border-radius: 50%;\n",
              "      cursor: pointer;\n",
              "      display: none;\n",
              "      fill: #1967D2;\n",
              "      height: 32px;\n",
              "      padding: 0 0 0 0;\n",
              "      width: 32px;\n",
              "    }\n",
              "\n",
              "    .colab-df-convert:hover {\n",
              "      background-color: #E2EBFA;\n",
              "      box-shadow: 0px 1px 2px rgba(60, 64, 67, 0.3), 0px 1px 3px 1px rgba(60, 64, 67, 0.15);\n",
              "      fill: #174EA6;\n",
              "    }\n",
              "\n",
              "    .colab-df-buttons div {\n",
              "      margin-bottom: 4px;\n",
              "    }\n",
              "\n",
              "    [theme=dark] .colab-df-convert {\n",
              "      background-color: #3B4455;\n",
              "      fill: #D2E3FC;\n",
              "    }\n",
              "\n",
              "    [theme=dark] .colab-df-convert:hover {\n",
              "      background-color: #434B5C;\n",
              "      box-shadow: 0px 1px 3px 1px rgba(0, 0, 0, 0.15);\n",
              "      filter: drop-shadow(0px 1px 2px rgba(0, 0, 0, 0.3));\n",
              "      fill: #FFFFFF;\n",
              "    }\n",
              "  </style>\n",
              "\n",
              "    <script>\n",
              "      const buttonEl =\n",
              "        document.querySelector('#df-48bb3885-b19a-4d4d-80cb-849f64957431 button.colab-df-convert');\n",
              "      buttonEl.style.display =\n",
              "        google.colab.kernel.accessAllowed ? 'block' : 'none';\n",
              "\n",
              "      async function convertToInteractive(key) {\n",
              "        const element = document.querySelector('#df-48bb3885-b19a-4d4d-80cb-849f64957431');\n",
              "        const dataTable =\n",
              "          await google.colab.kernel.invokeFunction('convertToInteractive',\n",
              "                                                    [key], {});\n",
              "        if (!dataTable) return;\n",
              "\n",
              "        const docLinkHtml = 'Like what you see? Visit the ' +\n",
              "          '<a target=\"_blank\" href=https://colab.research.google.com/notebooks/data_table.ipynb>data table notebook</a>'\n",
              "          + ' to learn more about interactive tables.';\n",
              "        element.innerHTML = '';\n",
              "        dataTable['output_type'] = 'display_data';\n",
              "        await google.colab.output.renderOutput(dataTable, element);\n",
              "        const docLink = document.createElement('div');\n",
              "        docLink.innerHTML = docLinkHtml;\n",
              "        element.appendChild(docLink);\n",
              "      }\n",
              "    </script>\n",
              "  </div>\n",
              "\n",
              "\n",
              "<div id=\"df-a1b9e5e6-4b53-4cbf-b0eb-2576293fc0b5\">\n",
              "  <button class=\"colab-df-quickchart\" onclick=\"quickchart('df-a1b9e5e6-4b53-4cbf-b0eb-2576293fc0b5')\"\n",
              "            title=\"Suggest charts.\"\n",
              "            style=\"display:none;\">\n",
              "\n",
              "<svg xmlns=\"http://www.w3.org/2000/svg\" height=\"24px\"viewBox=\"0 0 24 24\"\n",
              "     width=\"24px\">\n",
              "    <g>\n",
              "        <path d=\"M19 3H5c-1.1 0-2 .9-2 2v14c0 1.1.9 2 2 2h14c1.1 0 2-.9 2-2V5c0-1.1-.9-2-2-2zM9 17H7v-7h2v7zm4 0h-2V7h2v10zm4 0h-2v-4h2v4z\"/>\n",
              "    </g>\n",
              "</svg>\n",
              "  </button>\n",
              "\n",
              "<style>\n",
              "  .colab-df-quickchart {\n",
              "      --bg-color: #E8F0FE;\n",
              "      --fill-color: #1967D2;\n",
              "      --hover-bg-color: #E2EBFA;\n",
              "      --hover-fill-color: #174EA6;\n",
              "      --disabled-fill-color: #AAA;\n",
              "      --disabled-bg-color: #DDD;\n",
              "  }\n",
              "\n",
              "  [theme=dark] .colab-df-quickchart {\n",
              "      --bg-color: #3B4455;\n",
              "      --fill-color: #D2E3FC;\n",
              "      --hover-bg-color: #434B5C;\n",
              "      --hover-fill-color: #FFFFFF;\n",
              "      --disabled-bg-color: #3B4455;\n",
              "      --disabled-fill-color: #666;\n",
              "  }\n",
              "\n",
              "  .colab-df-quickchart {\n",
              "    background-color: var(--bg-color);\n",
              "    border: none;\n",
              "    border-radius: 50%;\n",
              "    cursor: pointer;\n",
              "    display: none;\n",
              "    fill: var(--fill-color);\n",
              "    height: 32px;\n",
              "    padding: 0;\n",
              "    width: 32px;\n",
              "  }\n",
              "\n",
              "  .colab-df-quickchart:hover {\n",
              "    background-color: var(--hover-bg-color);\n",
              "    box-shadow: 0 1px 2px rgba(60, 64, 67, 0.3), 0 1px 3px 1px rgba(60, 64, 67, 0.15);\n",
              "    fill: var(--button-hover-fill-color);\n",
              "  }\n",
              "\n",
              "  .colab-df-quickchart-complete:disabled,\n",
              "  .colab-df-quickchart-complete:disabled:hover {\n",
              "    background-color: var(--disabled-bg-color);\n",
              "    fill: var(--disabled-fill-color);\n",
              "    box-shadow: none;\n",
              "  }\n",
              "\n",
              "  .colab-df-spinner {\n",
              "    border: 2px solid var(--fill-color);\n",
              "    border-color: transparent;\n",
              "    border-bottom-color: var(--fill-color);\n",
              "    animation:\n",
              "      spin 1s steps(1) infinite;\n",
              "  }\n",
              "\n",
              "  @keyframes spin {\n",
              "    0% {\n",
              "      border-color: transparent;\n",
              "      border-bottom-color: var(--fill-color);\n",
              "      border-left-color: var(--fill-color);\n",
              "    }\n",
              "    20% {\n",
              "      border-color: transparent;\n",
              "      border-left-color: var(--fill-color);\n",
              "      border-top-color: var(--fill-color);\n",
              "    }\n",
              "    30% {\n",
              "      border-color: transparent;\n",
              "      border-left-color: var(--fill-color);\n",
              "      border-top-color: var(--fill-color);\n",
              "      border-right-color: var(--fill-color);\n",
              "    }\n",
              "    40% {\n",
              "      border-color: transparent;\n",
              "      border-right-color: var(--fill-color);\n",
              "      border-top-color: var(--fill-color);\n",
              "    }\n",
              "    60% {\n",
              "      border-color: transparent;\n",
              "      border-right-color: var(--fill-color);\n",
              "    }\n",
              "    80% {\n",
              "      border-color: transparent;\n",
              "      border-right-color: var(--fill-color);\n",
              "      border-bottom-color: var(--fill-color);\n",
              "    }\n",
              "    90% {\n",
              "      border-color: transparent;\n",
              "      border-bottom-color: var(--fill-color);\n",
              "    }\n",
              "  }\n",
              "</style>\n",
              "\n",
              "  <script>\n",
              "    async function quickchart(key) {\n",
              "      const quickchartButtonEl =\n",
              "        document.querySelector('#' + key + ' button');\n",
              "      quickchartButtonEl.disabled = true;  // To prevent multiple clicks.\n",
              "      quickchartButtonEl.classList.add('colab-df-spinner');\n",
              "      try {\n",
              "        const charts = await google.colab.kernel.invokeFunction(\n",
              "            'suggestCharts', [key], {});\n",
              "      } catch (error) {\n",
              "        console.error('Error during call to suggestCharts:', error);\n",
              "      }\n",
              "      quickchartButtonEl.classList.remove('colab-df-spinner');\n",
              "      quickchartButtonEl.classList.add('colab-df-quickchart-complete');\n",
              "    }\n",
              "    (() => {\n",
              "      let quickchartButtonEl =\n",
              "        document.querySelector('#df-a1b9e5e6-4b53-4cbf-b0eb-2576293fc0b5 button');\n",
              "      quickchartButtonEl.style.display =\n",
              "        google.colab.kernel.accessAllowed ? 'block' : 'none';\n",
              "    })();\n",
              "  </script>\n",
              "</div>\n",
              "    </div>\n",
              "  </div>\n"
            ]
          },
          "metadata": {},
          "execution_count": 154
        }
      ]
    },
    {
      "cell_type": "code",
      "source": [
        "class_names = ['Negativo', 'Neutro', 'Positivo']"
      ],
      "metadata": {
        "id": "sAputSpDzKOz"
      },
      "execution_count": null,
      "outputs": []
    },
    {
      "cell_type": "markdown",
      "source": [
        "**Informe de Clasificación**"
      ],
      "metadata": {
        "id": "9F3IlR6uOcy2"
      }
    },
    {
      "cell_type": "code",
      "source": [
        "#informe de clasificación\n",
        "print(classification_report(y_test, y_pred, target_names=class_names))"
      ],
      "metadata": {
        "id": "9XKQ22v0Ba_I",
        "colab": {
          "base_uri": "https://localhost:8080/"
        },
        "outputId": "54b15cbf-f34f-4f2a-c0d2-a28a17bd75a7"
      },
      "execution_count": null,
      "outputs": [
        {
          "output_type": "stream",
          "name": "stdout",
          "text": [
            "              precision    recall  f1-score   support\n",
            "\n",
            "    Negativo       0.79      0.78      0.79      1442\n",
            "      Neutro       0.78      0.82      0.80      3567\n",
            "    Positivo       0.79      0.73      0.76      2042\n",
            "\n",
            "    accuracy                           0.78      7051\n",
            "   macro avg       0.79      0.78      0.78      7051\n",
            "weighted avg       0.78      0.78      0.78      7051\n",
            "\n"
          ]
        }
      ]
    },
    {
      "cell_type": "markdown",
      "source": [
        "**Evaluación de los datos de prueba**"
      ],
      "metadata": {
        "id": "D4dNVGj4Jez5"
      }
    },
    {
      "cell_type": "code",
      "source": [
        "test_acc2, test_loss2 = eval_model(\n",
        "        model_sel, test_data_loader2, loss_fn, device, n_examples=len(df_test2))\n",
        "print('Prueba: Loss: {}, accuracy: {}'.format(test_loss2, test_acc2))"
      ],
      "metadata": {
        "id": "45tlpoQ4JaY-",
        "colab": {
          "base_uri": "https://localhost:8080/"
        },
        "outputId": "6d2219b6-2a54-4d0a-a354-00a2ac760651"
      },
      "execution_count": null,
      "outputs": [
        {
          "output_type": "stream",
          "name": "stdout",
          "text": [
            "Prueba: Loss: 0.7628685438255379, accuracy: 0.7845695646007659\n"
          ]
        }
      ]
    },
    {
      "cell_type": "markdown",
      "source": [
        "### Matriz de Confusión"
      ],
      "metadata": {
        "id": "g9UkWUF1DIy7"
      }
    },
    {
      "cell_type": "code",
      "source": [
        "def show_confusion_matrix(confusion_matrix):\n",
        "  hmap = sns.heatmap(confusion_matrix, annot=True, fmt=\"d\", cmap=\"Blues\")\n",
        "  hmap.yaxis.set_ticklabels(hmap.yaxis.get_ticklabels(), rotation=0, ha='right')\n",
        "  hmap.xaxis.set_ticklabels(hmap.xaxis.get_ticklabels(), rotation=30, ha='right')\n",
        "  plt.ylabel('Sentimientos verdaderos')\n",
        "  plt.xlabel('Sentimientos pronosticado');\n",
        "\n",
        "cm = confusion_matrix(y_test, y_pred)\n",
        "df_cm = pd.DataFrame(cm, index=class_names, columns=class_names)\n",
        "show_confusion_matrix(df_cm)"
      ],
      "metadata": {
        "id": "Uuf9zXEsDII1",
        "colab": {
          "base_uri": "https://localhost:8080/",
          "height": 479
        },
        "outputId": "54e086b7-35b0-4b6f-9c8d-d0d99c0691f8"
      },
      "execution_count": null,
      "outputs": [
        {
          "output_type": "display_data",
          "data": {
            "text/plain": [
              "<Figure size 640x480 with 2 Axes>"
            ],
            "image/png": "[encoded data removed]"
          },
          "metadata": {}
        }
      ]
    }
  ],
  "metadata": {
    "accelerator": "GPU",
    "colab": {
      "provenance": [],
      "gpuType": "T4",
      "toc_visible": true
    },
    "kernelspec": {
      "display_name": "Python 3",
      "name": "python3"
    },
    "language_info": {
      "name": "python"
    }
  },
  "nbformat": 4,
  "nbformat_minor": 0
}